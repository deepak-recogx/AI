{
 "cells": [
  {
   "cell_type": "code",
   "execution_count": 1,
   "metadata": {},
   "outputs": [],
   "source": [
    "#Count the number of peoples appearing in that image\n",
    "#Creating an bounding box around each of the detected person."
   ]
  },
  {
   "cell_type": "code",
   "execution_count": 1,
   "metadata": {},
   "outputs": [],
   "source": [
    "import cv2\n",
    "import sys"
   ]
  },
  {
   "cell_type": "code",
   "execution_count": 8,
   "metadata": {},
   "outputs": [],
   "source": [
    "#Pedestrian image read\n",
    "imagePath = \"D:\\\\RecogX_Backup\\\\EL\\\\Image\\\\result\\\\people.jpeg\"\n",
    "cascPath = \"D:\\\\RecogX_Backup\\\\EL\\\\Image\\\\cascades\\\\haarcascade_pedestrian.xml\"\n"
   ]
  },
  {
   "cell_type": "code",
   "execution_count": 9,
   "metadata": {},
   "outputs": [],
   "source": [
    "pedsCascade =  cv2.CascadeClassifier(cascPath)"
   ]
  },
  {
   "cell_type": "code",
   "execution_count": 10,
   "metadata": {},
   "outputs": [
    {
     "name": "stdout",
     "output_type": "stream",
     "text": [
      "[[125 125 125 ... 168 152 136]\n",
      " [125 125 125 ... 168 147 125]\n",
      " [125 125 125 ... 162 140 117]\n",
      " ...\n",
      " [255 255 255 ... 255 255 255]\n",
      " [255 255 255 ... 255 255 255]\n",
      " [255 255 255 ... 255 255 255]]\n"
     ]
    }
   ],
   "source": [
    "# Read the image\n",
    "image = cv2.imread(imagePath)\n",
    "gray = cv2.cvtColor(image, cv2.COLOR_BGR2GRAY)\n",
    "print(gray)"
   ]
  },
  {
   "cell_type": "code",
   "execution_count": 11,
   "metadata": {},
   "outputs": [],
   "source": [
    "# detect pedestrian in pic\n",
    "\n",
    "peds = pedsCascade.detectMultiScale(\n",
    "        gray,\n",
    "    #scaleFactor Parameter specifying how much the image size is reduced at each image scale.\n",
    "        scaleFactor=1.3,\n",
    "    #minNeighbors Parameter specifying how many neighbors each candidate rectangle should have to retain it.\n",
    "        minNeighbors=9,\n",
    "    #minSize Minimum possible object size. Objects smaller than that are ignored.\n",
    "        minSize=(30, 30)\n",
    ")"
   ]
  },
  {
   "cell_type": "code",
   "execution_count": 12,
   "metadata": {},
   "outputs": [
    {
     "name": "stdout",
     "output_type": "stream",
     "text": [
      "Found 2 pedestrian!\n"
     ]
    }
   ],
   "source": [
    "print(\"Found {0} pedestrian!\".format(len(peds)))"
   ]
  },
  {
   "cell_type": "code",
   "execution_count": 14,
   "metadata": {},
   "outputs": [
    {
     "name": "stdout",
     "output_type": "stream",
     "text": [
      "Image written to file-system :  True\n"
     ]
    }
   ],
   "source": [
    "# Draw a rectangle around the peds\n",
    "for (x, y, w, h) in peds:\n",
    "    cv2.rectangle(image, (x, y), (x+w, y+h), (0, 255, 0), 2)\n",
    "\n",
    "# cv2.imshow(\"Faces found\", image)\n",
    "status = cv2.imwrite('D:\\\\RecogX_Backup\\\\EL\\\\Image\\\\result\\\\peds_saved.jpg', image)\n",
    "print (\"Image written to file-system : \",status)"
   ]
  },
  {
   "cell_type": "code",
   "execution_count": null,
   "metadata": {},
   "outputs": [],
   "source": []
  }
 ],
 "metadata": {
  "kernelspec": {
   "display_name": "Python 3",
   "language": "python",
   "name": "python3"
  },
  "language_info": {
   "codemirror_mode": {
    "name": "ipython",
    "version": 3
   },
   "file_extension": ".py",
   "mimetype": "text/x-python",
   "name": "python",
   "nbconvert_exporter": "python",
   "pygments_lexer": "ipython3",
   "version": "3.8.3"
  }
 },
 "nbformat": 4,
 "nbformat_minor": 2
}
