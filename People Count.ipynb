{
 "cells": [
  {
   "cell_type": "code",
   "execution_count": 1,
   "metadata": {},
   "outputs": [],
   "source": [
    "import numpy as np\n",
    "import cv2"
   ]
  },
  {
   "cell_type": "code",
   "execution_count": 2,
   "metadata": {},
   "outputs": [],
   "source": [
    "face_cascade = cv2.CascadeClassifier('D:\\\\RecogX_Backup\\\\opencv-master\\\\data\\\\haarcascades\\\\haarcascade_frontalface_alt.xml')"
   ]
  },
  {
   "cell_type": "code",
   "execution_count": 3,
   "metadata": {},
   "outputs": [
    {
     "name": "stdout",
     "output_type": "stream",
     "text": [
      "[[[229 229 229]\n",
      "  [229 229 229]\n",
      "  [229 229 229]\n",
      "  ...\n",
      "  [229 229 229]\n",
      "  [229 229 229]\n",
      "  [229 229 229]]\n",
      "\n",
      " [[229 229 229]\n",
      "  [229 229 229]\n",
      "  [229 229 229]\n",
      "  ...\n",
      "  [229 229 229]\n",
      "  [229 229 229]\n",
      "  [229 229 229]]\n",
      "\n",
      " [[229 229 229]\n",
      "  [229 229 229]\n",
      "  [229 229 229]\n",
      "  ...\n",
      "  [229 229 229]\n",
      "  [229 229 229]\n",
      "  [229 229 229]]\n",
      "\n",
      " ...\n",
      "\n",
      " [[229 229 229]\n",
      "  [229 229 229]\n",
      "  [229 229 229]\n",
      "  ...\n",
      "  [231 231 231]\n",
      "  [231 231 231]\n",
      "  [231 231 231]]\n",
      "\n",
      " [[229 229 229]\n",
      "  [229 229 229]\n",
      "  [229 229 229]\n",
      "  ...\n",
      "  [231 231 231]\n",
      "  [231 231 231]\n",
      "  [231 231 231]]\n",
      "\n",
      " [[229 229 229]\n",
      "  [229 229 229]\n",
      "  [229 229 229]\n",
      "  ...\n",
      "  [231 231 231]\n",
      "  [231 231 231]\n",
      "  [231 231 231]]]\n"
     ]
    }
   ],
   "source": [
    "image = cv2.imread('D:\\\\RecogX_Backup\\\\EL\\\\Image\\\\result\\\\group.jpeg')\n",
    "grayImage = cv2.cvtColor(image, cv2.COLOR_BGR2GRAY)\n",
    "#Image is converted into Array\n",
    "print(image)"
   ]
  },
  {
   "cell_type": "code",
   "execution_count": 4,
   "metadata": {},
   "outputs": [
    {
     "name": "stdout",
     "output_type": "stream",
     "text": [
      "[[362  28  46  46]\n",
      " [349 200  48  48]\n",
      " [432 132  46  46]\n",
      " [278 136  46  46]\n",
      " [250  43  49  49]\n",
      " [455  55  44  44]]\n"
     ]
    }
   ],
   "source": [
    "#Detects objects of different sizes in the input image. The detected objects are returned as a list of rectangles.\n",
    "faces = face_cascade.detectMultiScale(grayImage)\n",
    "print (faces)\n"
   ]
  },
  {
   "cell_type": "code",
   "execution_count": 5,
   "metadata": {},
   "outputs": [
    {
     "name": "stdout",
     "output_type": "stream",
     "text": [
      "(6, 4)\n",
      "Number of faces detected: 6\n"
     ]
    }
   ],
   "source": [
    "print (faces.shape)\n",
    "print (\"Number of faces detected: \" + str(faces.shape[0]))\n"
   ]
  },
  {
   "cell_type": "code",
   "execution_count": 6,
   "metadata": {},
   "outputs": [
    {
     "name": "stdout",
     "output_type": "stream",
     "text": [
      "[[362  28  46  46]\n",
      " [349 200  48  48]\n",
      " [432 132  46  46]\n",
      " [278 136  46  46]\n",
      " [250  43  49  49]\n",
      " [455  55  44  44]]\n",
      "(6, 4)\n",
      "Number of faces detected: 6\n"
     ]
    }
   ],
   "source": [
    "#No face found\n",
    "if len(faces) == 0:\n",
    "    print (\"No faces found\")\n",
    " \n",
    "else:\n",
    "    print (faces)\n",
    "    print (faces.shape)\n",
    "    print (\"Number of faces detected: \" + str(faces.shape[0]))\n",
    "     #Draw a rectangle around the face\n",
    "    for (x,y,w,h) in faces:\n",
    "        cv2.rectangle(image,(x,y),(x+w,y+h),(0,255,0),1)\n",
    " \n",
    "    cv2.rectangle(image, ((0,image.shape[0] -25)),(270, image.shape[0]), (255,255,255), -1)\n",
    "    #Add text on the image\n",
    "    cv2.putText(image, \"Number of faces detected: \" + str(faces.shape[0]), (0,image.shape[0] -10), cv2.FONT_HERSHEY_TRIPLEX, 0.5,  (0,0,0), 1)\n",
    " \n",
    "    cv2.imshow('Image with faces',image)\n",
    "    cv2.waitKey(0)\n",
    "    cv2.destroyAllWindows()"
   ]
  },
  {
   "cell_type": "code",
   "execution_count": null,
   "metadata": {},
   "outputs": [],
   "source": []
  }
 ],
 "metadata": {
  "kernelspec": {
   "display_name": "Python 3",
   "language": "python",
   "name": "python3"
  },
  "language_info": {
   "codemirror_mode": {
    "name": "ipython",
    "version": 3
   },
   "file_extension": ".py",
   "mimetype": "text/x-python",
   "name": "python",
   "nbconvert_exporter": "python",
   "pygments_lexer": "ipython3",
   "version": "3.8.3"
  }
 },
 "nbformat": 4,
 "nbformat_minor": 2
}
